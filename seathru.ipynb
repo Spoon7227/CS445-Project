{
 "cells": [
  {
   "cell_type": "markdown",
   "metadata": {},
   "source": [
    "# CS445 Final Project - Seathru"
   ]
  },
  {
   "cell_type": "code",
   "execution_count": null,
   "metadata": {},
   "outputs": [],
   "source": [
    "import collections\n",
    "import sys\n",
    "import argparse\n",
    "import numpy as np\n",
    "import sklearn as sk\n",
    "import scipy as sp\n",
    "import scipy.optimize\n",
    "import scipy.stats\n",
    "import math\n",
    "from PIL import Image\n",
    "import rawpy\n",
    "import matplotlib\n",
    "from matplotlib import pyplot as plt\n",
    "from skimage import exposure\n",
    "from skimage.restoration import denoise_bilateral, denoise_tv_chambolle, estimate_sigma\n",
    "from skimage.morphology import closing, opening, erosion, dilation, disk, diamond, square"
   ]
  },
  {
   "cell_type": "code",
   "execution_count": null,
   "metadata": {},
   "outputs": [],
   "source": [
    "# maybe set up our image here? except i don't know which image to use"
   ]
  },
  {
   "cell_type": "code",
   "execution_count": null,
   "metadata": {},
   "outputs": [],
   "source": [
    "def find_backscatter_estimation_points(img, depths, num_bins=10, fraction=0.01, max_vals=20, min_depth_percent=0.0):\n",
    "    # for you\n",
    "    return None"
   ]
  },
  {
   "cell_type": "code",
   "execution_count": null,
   "metadata": {},
   "outputs": [],
   "source": [
    "def estimate_illumination(img, backscatter, neighborhood_map, num_neighborhoods, p=0.5, f=2.0, max_iters=100, tol=1E-5):\n",
    "    D = img - backscatter # I = D + B\n",
    "    avg_cs, avg_cs_prime = np.zeros(img.shape), np.zeros(img.shape) # change type?\n",
    "\n",
    "    neighborhood_sizes = np.zeros(num_neighborhoods)\n",
    "    neighborhood_locs = [None] * num_neighborhoods\n",
    "\n",
    "    for i in range(num_neighborhoods):\n",
    "        neighborhood_locs[i] = np.where((i+1) == neighborhood_map)\n",
    "        neighborhood_sizes[i] = np.size(neighborhood_locs[i][0])\n",
    "\n",
    "    # update average local contrasts\n",
    "    for i in range(max_iters):\n",
    "        for j in range(num_neighborhoods):\n",
    "            locs = neighborhood_locs[i]\n",
    "            size = neighborhood_sizes[i]\n",
    "            avg_cs_prime[locs] = (1/size) * (np.sum(avg_cs[locs])-avg_cs[locs])\n",
    "        updated_avg = (D*p) + (avg_cs_prime*(1-p))\n",
    "        abs_diff = np.abs(avg_cs-avg_cs_prime)\n",
    "        if np.max(abs_diff) < tol:\n",
    "            break\n",
    "        avg_cs = updated_avg\n",
    "    \n",
    "    result = f * denoise_bilateral(np.maximum(0, avg_cs))\n",
    "    return result"
   ]
  }
 ],
 "metadata": {
  "language_info": {
   "name": "python"
  }
 },
 "nbformat": 4,
 "nbformat_minor": 2
}
